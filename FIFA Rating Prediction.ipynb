{
 "cells": [
  {
   "cell_type": "markdown",
   "metadata": {},
   "source": [
    "# Projeto 2 - FIFA 19 Rating Prediction"
   ]
  },
  {
   "cell_type": "markdown",
   "metadata": {},
   "source": [
    "Thiago Lopes David\n",
    "\n",
    "Thiago Maitan Pegorer"
   ]
  },
  {
   "cell_type": "markdown",
   "metadata": {},
   "source": [
    "## Introdução"
   ]
  },
  {
   "cell_type": "markdown",
   "metadata": {},
   "source": [
    "![](./fifa.png)"
   ]
  },
  {
   "cell_type": "markdown",
   "metadata": {},
   "source": [
    "\n",
    "* O que é o fifa 2019?\n",
    "\n",
    "O FIFA 2019 é o jogo eletrônico de futebol mais famoso nos dias de hoje. Desenvolvido pela EA Sports e publicado no fim de 2018, esse jogo oferece diversos modos de jogos para seu usuario, de modo a tornar a experiência cada vez mais realista. Para que isso seja possivel, a EA Sports se preocupa bastante com a produção dos jogadores do jogo, dando ratings a cada um deles de acordo com suas qualidades na vida real. Esses ratings sao a média de cada atributo dado ao jogador especifico, e quanto maior essa média, melhor se torna o jogador no jogo.\n",
    "\n",
    "* O Projeto - FIFA 19 Rating Prediction\n",
    "\n",
    "Nesse projeto, utilizando-se do database disponibilizado atráves do link (https://www.kaggle.com/karangadiya/fifa19) iremos verificar tal classificação do rating feito pela empresa desenvolvedora. Utilizando as features disponibilizadas no database, como finalização, sprint speed, marcação, iremos prever o overall de determinados jogadores de forma aleatória através do método de regressão linear."
   ]
  },
  {
   "cell_type": "markdown",
   "metadata": {},
   "source": [
    "## Minerando dados e Características do Dataset"
   ]
  },
  {
   "cell_type": "markdown",
   "metadata": {},
   "source": [
    "* Importando bibliotecas"
   ]
  },
  {
   "cell_type": "code",
   "execution_count": 1,
   "metadata": {},
   "outputs": [],
   "source": [
    "import numpy as np\n",
    "import pandas as pd\n",
    "import os\n",
    "import matplotlib.pyplot as plt\n",
    "import seaborn as sns"
   ]
  },
  {
   "cell_type": "markdown",
   "metadata": {},
   "source": [
    "* Lendo dataset"
   ]
  },
  {
   "cell_type": "code",
   "execution_count": 2,
   "metadata": {},
   "outputs": [
    {
     "name": "stdout",
     "output_type": "stream",
     "text": [
      "Esperamos trabalhar no diretório\n",
      "/Users/thiagopegorer/Documents/Insper/3 semestre/Ciencia dos Dados/FIFA_Rating_P2\n"
     ]
    }
   ],
   "source": [
    "# Listando o diretório de trabalho. Lembre-se que o arquivo com a base de dados precisa estar neste diretório.\n",
    "print('Esperamos trabalhar no diretório')\n",
    "print(os.getcwd())"
   ]
  },
  {
   "cell_type": "code",
   "execution_count": 3,
   "metadata": {},
   "outputs": [],
   "source": [
    "fifa = pd.read_csv(\"data.csv\")"
   ]
  },
  {
   "cell_type": "code",
   "execution_count": 4,
   "metadata": {},
   "outputs": [
    {
     "data": {
      "text/html": [
       "<div>\n",
       "<style scoped>\n",
       "    .dataframe tbody tr th:only-of-type {\n",
       "        vertical-align: middle;\n",
       "    }\n",
       "\n",
       "    .dataframe tbody tr th {\n",
       "        vertical-align: top;\n",
       "    }\n",
       "\n",
       "    .dataframe thead th {\n",
       "        text-align: right;\n",
       "    }\n",
       "</style>\n",
       "<table border=\"1\" class=\"dataframe\">\n",
       "  <thead>\n",
       "    <tr style=\"text-align: right;\">\n",
       "      <th></th>\n",
       "      <th>Unnamed: 0</th>\n",
       "      <th>ID</th>\n",
       "      <th>Name</th>\n",
       "      <th>Age</th>\n",
       "      <th>Photo</th>\n",
       "      <th>Nationality</th>\n",
       "      <th>Flag</th>\n",
       "      <th>Overall</th>\n",
       "      <th>Potential</th>\n",
       "      <th>Club</th>\n",
       "      <th>...</th>\n",
       "      <th>Composure</th>\n",
       "      <th>Marking</th>\n",
       "      <th>StandingTackle</th>\n",
       "      <th>SlidingTackle</th>\n",
       "      <th>GKDiving</th>\n",
       "      <th>GKHandling</th>\n",
       "      <th>GKKicking</th>\n",
       "      <th>GKPositioning</th>\n",
       "      <th>GKReflexes</th>\n",
       "      <th>Release Clause</th>\n",
       "    </tr>\n",
       "  </thead>\n",
       "  <tbody>\n",
       "    <tr>\n",
       "      <th>0</th>\n",
       "      <td>0</td>\n",
       "      <td>158023</td>\n",
       "      <td>L. Messi</td>\n",
       "      <td>31</td>\n",
       "      <td>https://cdn.sofifa.org/players/4/19/158023.png</td>\n",
       "      <td>Argentina</td>\n",
       "      <td>https://cdn.sofifa.org/flags/52.png</td>\n",
       "      <td>94</td>\n",
       "      <td>94</td>\n",
       "      <td>FC Barcelona</td>\n",
       "      <td>...</td>\n",
       "      <td>96.0</td>\n",
       "      <td>33.0</td>\n",
       "      <td>28.0</td>\n",
       "      <td>26.0</td>\n",
       "      <td>6.0</td>\n",
       "      <td>11.0</td>\n",
       "      <td>15.0</td>\n",
       "      <td>14.0</td>\n",
       "      <td>8.0</td>\n",
       "      <td>€226.5M</td>\n",
       "    </tr>\n",
       "    <tr>\n",
       "      <th>1</th>\n",
       "      <td>1</td>\n",
       "      <td>20801</td>\n",
       "      <td>Cristiano Ronaldo</td>\n",
       "      <td>33</td>\n",
       "      <td>https://cdn.sofifa.org/players/4/19/20801.png</td>\n",
       "      <td>Portugal</td>\n",
       "      <td>https://cdn.sofifa.org/flags/38.png</td>\n",
       "      <td>94</td>\n",
       "      <td>94</td>\n",
       "      <td>Juventus</td>\n",
       "      <td>...</td>\n",
       "      <td>95.0</td>\n",
       "      <td>28.0</td>\n",
       "      <td>31.0</td>\n",
       "      <td>23.0</td>\n",
       "      <td>7.0</td>\n",
       "      <td>11.0</td>\n",
       "      <td>15.0</td>\n",
       "      <td>14.0</td>\n",
       "      <td>11.0</td>\n",
       "      <td>€127.1M</td>\n",
       "    </tr>\n",
       "    <tr>\n",
       "      <th>2</th>\n",
       "      <td>2</td>\n",
       "      <td>190871</td>\n",
       "      <td>Neymar Jr</td>\n",
       "      <td>26</td>\n",
       "      <td>https://cdn.sofifa.org/players/4/19/190871.png</td>\n",
       "      <td>Brazil</td>\n",
       "      <td>https://cdn.sofifa.org/flags/54.png</td>\n",
       "      <td>92</td>\n",
       "      <td>93</td>\n",
       "      <td>Paris Saint-Germain</td>\n",
       "      <td>...</td>\n",
       "      <td>94.0</td>\n",
       "      <td>27.0</td>\n",
       "      <td>24.0</td>\n",
       "      <td>33.0</td>\n",
       "      <td>9.0</td>\n",
       "      <td>9.0</td>\n",
       "      <td>15.0</td>\n",
       "      <td>15.0</td>\n",
       "      <td>11.0</td>\n",
       "      <td>€228.1M</td>\n",
       "    </tr>\n",
       "    <tr>\n",
       "      <th>3</th>\n",
       "      <td>3</td>\n",
       "      <td>193080</td>\n",
       "      <td>De Gea</td>\n",
       "      <td>27</td>\n",
       "      <td>https://cdn.sofifa.org/players/4/19/193080.png</td>\n",
       "      <td>Spain</td>\n",
       "      <td>https://cdn.sofifa.org/flags/45.png</td>\n",
       "      <td>91</td>\n",
       "      <td>93</td>\n",
       "      <td>Manchester United</td>\n",
       "      <td>...</td>\n",
       "      <td>68.0</td>\n",
       "      <td>15.0</td>\n",
       "      <td>21.0</td>\n",
       "      <td>13.0</td>\n",
       "      <td>90.0</td>\n",
       "      <td>85.0</td>\n",
       "      <td>87.0</td>\n",
       "      <td>88.0</td>\n",
       "      <td>94.0</td>\n",
       "      <td>€138.6M</td>\n",
       "    </tr>\n",
       "    <tr>\n",
       "      <th>4</th>\n",
       "      <td>4</td>\n",
       "      <td>192985</td>\n",
       "      <td>K. De Bruyne</td>\n",
       "      <td>27</td>\n",
       "      <td>https://cdn.sofifa.org/players/4/19/192985.png</td>\n",
       "      <td>Belgium</td>\n",
       "      <td>https://cdn.sofifa.org/flags/7.png</td>\n",
       "      <td>91</td>\n",
       "      <td>92</td>\n",
       "      <td>Manchester City</td>\n",
       "      <td>...</td>\n",
       "      <td>88.0</td>\n",
       "      <td>68.0</td>\n",
       "      <td>58.0</td>\n",
       "      <td>51.0</td>\n",
       "      <td>15.0</td>\n",
       "      <td>13.0</td>\n",
       "      <td>5.0</td>\n",
       "      <td>10.0</td>\n",
       "      <td>13.0</td>\n",
       "      <td>€196.4M</td>\n",
       "    </tr>\n",
       "  </tbody>\n",
       "</table>\n",
       "<p>5 rows × 89 columns</p>\n",
       "</div>"
      ],
      "text/plain": [
       "   Unnamed: 0      ID               Name  Age  \\\n",
       "0           0  158023           L. Messi   31   \n",
       "1           1   20801  Cristiano Ronaldo   33   \n",
       "2           2  190871          Neymar Jr   26   \n",
       "3           3  193080             De Gea   27   \n",
       "4           4  192985       K. De Bruyne   27   \n",
       "\n",
       "                                            Photo Nationality  \\\n",
       "0  https://cdn.sofifa.org/players/4/19/158023.png   Argentina   \n",
       "1   https://cdn.sofifa.org/players/4/19/20801.png    Portugal   \n",
       "2  https://cdn.sofifa.org/players/4/19/190871.png      Brazil   \n",
       "3  https://cdn.sofifa.org/players/4/19/193080.png       Spain   \n",
       "4  https://cdn.sofifa.org/players/4/19/192985.png     Belgium   \n",
       "\n",
       "                                  Flag  Overall  Potential  \\\n",
       "0  https://cdn.sofifa.org/flags/52.png       94         94   \n",
       "1  https://cdn.sofifa.org/flags/38.png       94         94   \n",
       "2  https://cdn.sofifa.org/flags/54.png       92         93   \n",
       "3  https://cdn.sofifa.org/flags/45.png       91         93   \n",
       "4   https://cdn.sofifa.org/flags/7.png       91         92   \n",
       "\n",
       "                  Club      ...       Composure Marking StandingTackle  \\\n",
       "0         FC Barcelona      ...            96.0    33.0           28.0   \n",
       "1             Juventus      ...            95.0    28.0           31.0   \n",
       "2  Paris Saint-Germain      ...            94.0    27.0           24.0   \n",
       "3    Manchester United      ...            68.0    15.0           21.0   \n",
       "4      Manchester City      ...            88.0    68.0           58.0   \n",
       "\n",
       "   SlidingTackle GKDiving  GKHandling  GKKicking  GKPositioning GKReflexes  \\\n",
       "0           26.0      6.0        11.0       15.0           14.0        8.0   \n",
       "1           23.0      7.0        11.0       15.0           14.0       11.0   \n",
       "2           33.0      9.0         9.0       15.0           15.0       11.0   \n",
       "3           13.0     90.0        85.0       87.0           88.0       94.0   \n",
       "4           51.0     15.0        13.0        5.0           10.0       13.0   \n",
       "\n",
       "  Release Clause  \n",
       "0        €226.5M  \n",
       "1        €127.1M  \n",
       "2        €228.1M  \n",
       "3        €138.6M  \n",
       "4        €196.4M  \n",
       "\n",
       "[5 rows x 89 columns]"
      ]
     },
     "execution_count": 4,
     "metadata": {},
     "output_type": "execute_result"
    }
   ],
   "source": [
    "fifa.head()"
   ]
  },
  {
   "cell_type": "markdown",
   "metadata": {},
   "source": [
    "* Analisando todas as colunas presentes no dataset"
   ]
  },
  {
   "cell_type": "code",
   "execution_count": 5,
   "metadata": {},
   "outputs": [
    {
     "data": {
      "text/plain": [
       "Index(['Unnamed: 0', 'ID', 'Name', 'Age', 'Photo', 'Nationality', 'Flag',\n",
       "       'Overall', 'Potential', 'Club', 'Club Logo', 'Value', 'Wage', 'Special',\n",
       "       'Preferred Foot', 'International Reputation', 'Weak Foot',\n",
       "       'Skill Moves', 'Work Rate', 'Body Type', 'Real Face', 'Position',\n",
       "       'Jersey Number', 'Joined', 'Loaned From', 'Contract Valid Until',\n",
       "       'Height', 'Weight', 'LS', 'ST', 'RS', 'LW', 'LF', 'CF', 'RF', 'RW',\n",
       "       'LAM', 'CAM', 'RAM', 'LM', 'LCM', 'CM', 'RCM', 'RM', 'LWB', 'LDM',\n",
       "       'CDM', 'RDM', 'RWB', 'LB', 'LCB', 'CB', 'RCB', 'RB', 'Crossing',\n",
       "       'Finishing', 'HeadingAccuracy', 'ShortPassing', 'Volleys', 'Dribbling',\n",
       "       'Curve', 'FKAccuracy', 'LongPassing', 'BallControl', 'Acceleration',\n",
       "       'SprintSpeed', 'Agility', 'Reactions', 'Balance', 'ShotPower',\n",
       "       'Jumping', 'Stamina', 'Strength', 'LongShots', 'Aggression',\n",
       "       'Interceptions', 'Positioning', 'Vision', 'Penalties', 'Composure',\n",
       "       'Marking', 'StandingTackle', 'SlidingTackle', 'GKDiving', 'GKHandling',\n",
       "       'GKKicking', 'GKPositioning', 'GKReflexes', 'Release Clause'],\n",
       "      dtype='object')"
      ]
     },
     "execution_count": 5,
     "metadata": {},
     "output_type": "execute_result"
    }
   ],
   "source": [
    "fifa.columns"
   ]
  },
  {
   "cell_type": "markdown",
   "metadata": {},
   "source": [
    "* Selecionando colunas de interesse\n",
    "\n",
    "Dentre as colunas apresentas, verifica-se que algumas não influenciam o resultado do overall do jogador ou não possuem relevancia de análise. Para isso selecionaremos apenas a que mostram as habilidades dos atletas ou informações relevantes, como nome e idade do jogador, seu clube de atuação, nacionalidade e seu salário, para possíveis análises exploratórias."
   ]
  },
  {
   "cell_type": "code",
   "execution_count": 6,
   "metadata": {},
   "outputs": [
    {
     "data": {
      "text/html": [
       "<div>\n",
       "<style scoped>\n",
       "    .dataframe tbody tr th:only-of-type {\n",
       "        vertical-align: middle;\n",
       "    }\n",
       "\n",
       "    .dataframe tbody tr th {\n",
       "        vertical-align: top;\n",
       "    }\n",
       "\n",
       "    .dataframe thead th {\n",
       "        text-align: right;\n",
       "    }\n",
       "</style>\n",
       "<table border=\"1\" class=\"dataframe\">\n",
       "  <thead>\n",
       "    <tr style=\"text-align: right;\">\n",
       "      <th></th>\n",
       "      <th>Name</th>\n",
       "      <th>Age</th>\n",
       "      <th>Nationality</th>\n",
       "      <th>Overall</th>\n",
       "      <th>Potential</th>\n",
       "      <th>Club</th>\n",
       "      <th>Wage</th>\n",
       "      <th>Preferred Foot</th>\n",
       "      <th>Position</th>\n",
       "      <th>Crossing</th>\n",
       "      <th>...</th>\n",
       "      <th>Penalties</th>\n",
       "      <th>Composure</th>\n",
       "      <th>Marking</th>\n",
       "      <th>StandingTackle</th>\n",
       "      <th>SlidingTackle</th>\n",
       "      <th>GKDiving</th>\n",
       "      <th>GKHandling</th>\n",
       "      <th>GKKicking</th>\n",
       "      <th>GKPositioning</th>\n",
       "      <th>GKReflexes</th>\n",
       "    </tr>\n",
       "  </thead>\n",
       "  <tbody>\n",
       "    <tr>\n",
       "      <th>0</th>\n",
       "      <td>L. Messi</td>\n",
       "      <td>31</td>\n",
       "      <td>Argentina</td>\n",
       "      <td>94</td>\n",
       "      <td>94</td>\n",
       "      <td>FC Barcelona</td>\n",
       "      <td>€565K</td>\n",
       "      <td>Left</td>\n",
       "      <td>RF</td>\n",
       "      <td>84.0</td>\n",
       "      <td>...</td>\n",
       "      <td>75.0</td>\n",
       "      <td>96.0</td>\n",
       "      <td>33.0</td>\n",
       "      <td>28.0</td>\n",
       "      <td>26.0</td>\n",
       "      <td>6.0</td>\n",
       "      <td>11.0</td>\n",
       "      <td>15.0</td>\n",
       "      <td>14.0</td>\n",
       "      <td>8.0</td>\n",
       "    </tr>\n",
       "    <tr>\n",
       "      <th>1</th>\n",
       "      <td>Cristiano Ronaldo</td>\n",
       "      <td>33</td>\n",
       "      <td>Portugal</td>\n",
       "      <td>94</td>\n",
       "      <td>94</td>\n",
       "      <td>Juventus</td>\n",
       "      <td>€405K</td>\n",
       "      <td>Right</td>\n",
       "      <td>ST</td>\n",
       "      <td>84.0</td>\n",
       "      <td>...</td>\n",
       "      <td>85.0</td>\n",
       "      <td>95.0</td>\n",
       "      <td>28.0</td>\n",
       "      <td>31.0</td>\n",
       "      <td>23.0</td>\n",
       "      <td>7.0</td>\n",
       "      <td>11.0</td>\n",
       "      <td>15.0</td>\n",
       "      <td>14.0</td>\n",
       "      <td>11.0</td>\n",
       "    </tr>\n",
       "    <tr>\n",
       "      <th>2</th>\n",
       "      <td>Neymar Jr</td>\n",
       "      <td>26</td>\n",
       "      <td>Brazil</td>\n",
       "      <td>92</td>\n",
       "      <td>93</td>\n",
       "      <td>Paris Saint-Germain</td>\n",
       "      <td>€290K</td>\n",
       "      <td>Right</td>\n",
       "      <td>LW</td>\n",
       "      <td>79.0</td>\n",
       "      <td>...</td>\n",
       "      <td>81.0</td>\n",
       "      <td>94.0</td>\n",
       "      <td>27.0</td>\n",
       "      <td>24.0</td>\n",
       "      <td>33.0</td>\n",
       "      <td>9.0</td>\n",
       "      <td>9.0</td>\n",
       "      <td>15.0</td>\n",
       "      <td>15.0</td>\n",
       "      <td>11.0</td>\n",
       "    </tr>\n",
       "    <tr>\n",
       "      <th>3</th>\n",
       "      <td>De Gea</td>\n",
       "      <td>27</td>\n",
       "      <td>Spain</td>\n",
       "      <td>91</td>\n",
       "      <td>93</td>\n",
       "      <td>Manchester United</td>\n",
       "      <td>€260K</td>\n",
       "      <td>Right</td>\n",
       "      <td>GK</td>\n",
       "      <td>17.0</td>\n",
       "      <td>...</td>\n",
       "      <td>40.0</td>\n",
       "      <td>68.0</td>\n",
       "      <td>15.0</td>\n",
       "      <td>21.0</td>\n",
       "      <td>13.0</td>\n",
       "      <td>90.0</td>\n",
       "      <td>85.0</td>\n",
       "      <td>87.0</td>\n",
       "      <td>88.0</td>\n",
       "      <td>94.0</td>\n",
       "    </tr>\n",
       "    <tr>\n",
       "      <th>4</th>\n",
       "      <td>K. De Bruyne</td>\n",
       "      <td>27</td>\n",
       "      <td>Belgium</td>\n",
       "      <td>91</td>\n",
       "      <td>92</td>\n",
       "      <td>Manchester City</td>\n",
       "      <td>€355K</td>\n",
       "      <td>Right</td>\n",
       "      <td>RCM</td>\n",
       "      <td>93.0</td>\n",
       "      <td>...</td>\n",
       "      <td>79.0</td>\n",
       "      <td>88.0</td>\n",
       "      <td>68.0</td>\n",
       "      <td>58.0</td>\n",
       "      <td>51.0</td>\n",
       "      <td>15.0</td>\n",
       "      <td>13.0</td>\n",
       "      <td>5.0</td>\n",
       "      <td>10.0</td>\n",
       "      <td>13.0</td>\n",
       "    </tr>\n",
       "  </tbody>\n",
       "</table>\n",
       "<p>5 rows × 43 columns</p>\n",
       "</div>"
      ],
      "text/plain": [
       "                Name  Age Nationality  Overall  Potential  \\\n",
       "0           L. Messi   31   Argentina       94         94   \n",
       "1  Cristiano Ronaldo   33    Portugal       94         94   \n",
       "2          Neymar Jr   26      Brazil       92         93   \n",
       "3             De Gea   27       Spain       91         93   \n",
       "4       K. De Bruyne   27     Belgium       91         92   \n",
       "\n",
       "                  Club   Wage Preferred Foot Position  Crossing     ...      \\\n",
       "0         FC Barcelona  €565K           Left       RF      84.0     ...       \n",
       "1             Juventus  €405K          Right       ST      84.0     ...       \n",
       "2  Paris Saint-Germain  €290K          Right       LW      79.0     ...       \n",
       "3    Manchester United  €260K          Right       GK      17.0     ...       \n",
       "4      Manchester City  €355K          Right      RCM      93.0     ...       \n",
       "\n",
       "   Penalties  Composure  Marking  StandingTackle  SlidingTackle  GKDiving  \\\n",
       "0       75.0       96.0     33.0            28.0           26.0       6.0   \n",
       "1       85.0       95.0     28.0            31.0           23.0       7.0   \n",
       "2       81.0       94.0     27.0            24.0           33.0       9.0   \n",
       "3       40.0       68.0     15.0            21.0           13.0      90.0   \n",
       "4       79.0       88.0     68.0            58.0           51.0      15.0   \n",
       "\n",
       "   GKHandling  GKKicking  GKPositioning  GKReflexes  \n",
       "0        11.0       15.0           14.0         8.0  \n",
       "1        11.0       15.0           14.0        11.0  \n",
       "2         9.0       15.0           15.0        11.0  \n",
       "3        85.0       87.0           88.0        94.0  \n",
       "4        13.0        5.0           10.0        13.0  \n",
       "\n",
       "[5 rows x 43 columns]"
      ]
     },
     "execution_count": 6,
     "metadata": {},
     "output_type": "execute_result"
    }
   ],
   "source": [
    "fifa_df=fifa[[\"Name\",\"Age\",'Nationality','Overall', 'Potential','Club', 'Wage','Preferred Foot','Position','Crossing',\n",
    "       'Finishing', 'HeadingAccuracy', 'ShortPassing', 'Volleys', 'Dribbling',\n",
    "       'Curve', 'FKAccuracy', 'LongPassing', 'BallControl', 'Acceleration',\n",
    "       'SprintSpeed', 'Agility', 'Reactions', 'Balance', 'ShotPower',\n",
    "       'Jumping', 'Stamina', 'Strength', 'LongShots', 'Aggression',\n",
    "       'Interceptions', 'Positioning', 'Vision', 'Penalties', 'Composure',\n",
    "       'Marking', 'StandingTackle', 'SlidingTackle', 'GKDiving', 'GKHandling',\n",
    "       'GKKicking', 'GKPositioning', 'GKReflexes']]\n",
    "fifa_df.head()"
   ]
  },
  {
   "cell_type": "markdown",
   "metadata": {},
   "source": [
    "* Retirando o símbolo de euro e o \"K\" da coluna Wage\n",
    "\n",
    "Para um melhor manuseio do dataframe, é preciso retirar strings de moeda e valor, transformando os dados da coluna \"Wage\" em numeros inteiros."
   ]
  },
  {
   "cell_type": "code",
   "execution_count": 7,
   "metadata": {},
   "outputs": [
    {
     "name": "stderr",
     "output_type": "stream",
     "text": [
      "/Users/thiagopegorer/anaconda3/lib/python3.7/site-packages/pandas/core/indexing.py:543: SettingWithCopyWarning: \n",
      "A value is trying to be set on a copy of a slice from a DataFrame.\n",
      "Try using .loc[row_indexer,col_indexer] = value instead\n",
      "\n",
      "See the caveats in the documentation: http://pandas.pydata.org/pandas-docs/stable/indexing.html#indexing-view-versus-copy\n",
      "  self.obj[item] = s\n"
     ]
    },
    {
     "data": {
      "text/html": [
       "<div>\n",
       "<style scoped>\n",
       "    .dataframe tbody tr th:only-of-type {\n",
       "        vertical-align: middle;\n",
       "    }\n",
       "\n",
       "    .dataframe tbody tr th {\n",
       "        vertical-align: top;\n",
       "    }\n",
       "\n",
       "    .dataframe thead th {\n",
       "        text-align: right;\n",
       "    }\n",
       "</style>\n",
       "<table border=\"1\" class=\"dataframe\">\n",
       "  <thead>\n",
       "    <tr style=\"text-align: right;\">\n",
       "      <th></th>\n",
       "      <th>Name</th>\n",
       "      <th>Age</th>\n",
       "      <th>Nationality</th>\n",
       "      <th>Overall</th>\n",
       "      <th>Potential</th>\n",
       "      <th>Club</th>\n",
       "      <th>Wage</th>\n",
       "      <th>Preferred Foot</th>\n",
       "      <th>Position</th>\n",
       "      <th>Crossing</th>\n",
       "      <th>...</th>\n",
       "      <th>Penalties</th>\n",
       "      <th>Composure</th>\n",
       "      <th>Marking</th>\n",
       "      <th>StandingTackle</th>\n",
       "      <th>SlidingTackle</th>\n",
       "      <th>GKDiving</th>\n",
       "      <th>GKHandling</th>\n",
       "      <th>GKKicking</th>\n",
       "      <th>GKPositioning</th>\n",
       "      <th>GKReflexes</th>\n",
       "    </tr>\n",
       "  </thead>\n",
       "  <tbody>\n",
       "    <tr>\n",
       "      <th>0</th>\n",
       "      <td>L. Messi</td>\n",
       "      <td>31</td>\n",
       "      <td>Argentina</td>\n",
       "      <td>94</td>\n",
       "      <td>94</td>\n",
       "      <td>FC Barcelona</td>\n",
       "      <td>565000.0</td>\n",
       "      <td>Left</td>\n",
       "      <td>RF</td>\n",
       "      <td>84.0</td>\n",
       "      <td>...</td>\n",
       "      <td>75.0</td>\n",
       "      <td>96.0</td>\n",
       "      <td>33.0</td>\n",
       "      <td>28.0</td>\n",
       "      <td>26.0</td>\n",
       "      <td>6.0</td>\n",
       "      <td>11.0</td>\n",
       "      <td>15.0</td>\n",
       "      <td>14.0</td>\n",
       "      <td>8.0</td>\n",
       "    </tr>\n",
       "    <tr>\n",
       "      <th>1</th>\n",
       "      <td>Cristiano Ronaldo</td>\n",
       "      <td>33</td>\n",
       "      <td>Portugal</td>\n",
       "      <td>94</td>\n",
       "      <td>94</td>\n",
       "      <td>Juventus</td>\n",
       "      <td>405000.0</td>\n",
       "      <td>Right</td>\n",
       "      <td>ST</td>\n",
       "      <td>84.0</td>\n",
       "      <td>...</td>\n",
       "      <td>85.0</td>\n",
       "      <td>95.0</td>\n",
       "      <td>28.0</td>\n",
       "      <td>31.0</td>\n",
       "      <td>23.0</td>\n",
       "      <td>7.0</td>\n",
       "      <td>11.0</td>\n",
       "      <td>15.0</td>\n",
       "      <td>14.0</td>\n",
       "      <td>11.0</td>\n",
       "    </tr>\n",
       "    <tr>\n",
       "      <th>2</th>\n",
       "      <td>Neymar Jr</td>\n",
       "      <td>26</td>\n",
       "      <td>Brazil</td>\n",
       "      <td>92</td>\n",
       "      <td>93</td>\n",
       "      <td>Paris Saint-Germain</td>\n",
       "      <td>290000.0</td>\n",
       "      <td>Right</td>\n",
       "      <td>LW</td>\n",
       "      <td>79.0</td>\n",
       "      <td>...</td>\n",
       "      <td>81.0</td>\n",
       "      <td>94.0</td>\n",
       "      <td>27.0</td>\n",
       "      <td>24.0</td>\n",
       "      <td>33.0</td>\n",
       "      <td>9.0</td>\n",
       "      <td>9.0</td>\n",
       "      <td>15.0</td>\n",
       "      <td>15.0</td>\n",
       "      <td>11.0</td>\n",
       "    </tr>\n",
       "    <tr>\n",
       "      <th>3</th>\n",
       "      <td>De Gea</td>\n",
       "      <td>27</td>\n",
       "      <td>Spain</td>\n",
       "      <td>91</td>\n",
       "      <td>93</td>\n",
       "      <td>Manchester United</td>\n",
       "      <td>260000.0</td>\n",
       "      <td>Right</td>\n",
       "      <td>GK</td>\n",
       "      <td>17.0</td>\n",
       "      <td>...</td>\n",
       "      <td>40.0</td>\n",
       "      <td>68.0</td>\n",
       "      <td>15.0</td>\n",
       "      <td>21.0</td>\n",
       "      <td>13.0</td>\n",
       "      <td>90.0</td>\n",
       "      <td>85.0</td>\n",
       "      <td>87.0</td>\n",
       "      <td>88.0</td>\n",
       "      <td>94.0</td>\n",
       "    </tr>\n",
       "    <tr>\n",
       "      <th>4</th>\n",
       "      <td>K. De Bruyne</td>\n",
       "      <td>27</td>\n",
       "      <td>Belgium</td>\n",
       "      <td>91</td>\n",
       "      <td>92</td>\n",
       "      <td>Manchester City</td>\n",
       "      <td>355000.0</td>\n",
       "      <td>Right</td>\n",
       "      <td>RCM</td>\n",
       "      <td>93.0</td>\n",
       "      <td>...</td>\n",
       "      <td>79.0</td>\n",
       "      <td>88.0</td>\n",
       "      <td>68.0</td>\n",
       "      <td>58.0</td>\n",
       "      <td>51.0</td>\n",
       "      <td>15.0</td>\n",
       "      <td>13.0</td>\n",
       "      <td>5.0</td>\n",
       "      <td>10.0</td>\n",
       "      <td>13.0</td>\n",
       "    </tr>\n",
       "  </tbody>\n",
       "</table>\n",
       "<p>5 rows × 43 columns</p>\n",
       "</div>"
      ],
      "text/plain": [
       "                Name  Age Nationality  Overall  Potential  \\\n",
       "0           L. Messi   31   Argentina       94         94   \n",
       "1  Cristiano Ronaldo   33    Portugal       94         94   \n",
       "2          Neymar Jr   26      Brazil       92         93   \n",
       "3             De Gea   27       Spain       91         93   \n",
       "4       K. De Bruyne   27     Belgium       91         92   \n",
       "\n",
       "                  Club      Wage Preferred Foot Position  Crossing  \\\n",
       "0         FC Barcelona  565000.0           Left       RF      84.0   \n",
       "1             Juventus  405000.0          Right       ST      84.0   \n",
       "2  Paris Saint-Germain  290000.0          Right       LW      79.0   \n",
       "3    Manchester United  260000.0          Right       GK      17.0   \n",
       "4      Manchester City  355000.0          Right      RCM      93.0   \n",
       "\n",
       "      ...      Penalties  Composure  Marking  StandingTackle  SlidingTackle  \\\n",
       "0     ...           75.0       96.0     33.0            28.0           26.0   \n",
       "1     ...           85.0       95.0     28.0            31.0           23.0   \n",
       "2     ...           81.0       94.0     27.0            24.0           33.0   \n",
       "3     ...           40.0       68.0     15.0            21.0           13.0   \n",
       "4     ...           79.0       88.0     68.0            58.0           51.0   \n",
       "\n",
       "   GKDiving  GKHandling  GKKicking  GKPositioning  GKReflexes  \n",
       "0       6.0        11.0       15.0           14.0         8.0  \n",
       "1       7.0        11.0       15.0           14.0        11.0  \n",
       "2       9.0         9.0       15.0           15.0        11.0  \n",
       "3      90.0        85.0       87.0           88.0        94.0  \n",
       "4      15.0        13.0        5.0           10.0        13.0  \n",
       "\n",
       "[5 rows x 43 columns]"
      ]
     },
     "execution_count": 7,
     "metadata": {},
     "output_type": "execute_result"
    }
   ],
   "source": [
    "fifa_df.loc[:,\"Wage\"]=pd.to_numeric(fifa_df[\"Wage\"].str.slice(start=1,stop= -1))*1000\n",
    "fifa_df.head()"
   ]
  },
  {
   "cell_type": "markdown",
   "metadata": {},
   "source": [
    "* Simplificando as posições e pé dominante\n",
    "\n",
    "Observa-se no dataframe, diferentes tipos de posições em setores do campo, como exemplo: os defensores são ramificados em laterais direito, laterais esquerdo, zagueiros, alas direito e esquerdo. O mesmo ocorre para os volantes, meio campo, meia atacantes e atacantes. Como desempenham funções parecidas e possuem habilidades semelhantes, unificaremos tais posições em apenas um grupo específico para cada, a fim de fazer de separar a predição de overall, garantindo um melhor resultado.\n",
    "\n",
    "Ao observar a coluna de \"Preferred Foot\" temos ela como sendo uma string, para um melhor manuseio, iremos transforma-la em número, de modo que destros receberão o valor 1 e canhotos 0."
   ]
  },
  {
   "cell_type": "code",
   "execution_count": 8,
   "metadata": {},
   "outputs": [
    {
     "data": {
      "text/html": [
       "<div>\n",
       "<style scoped>\n",
       "    .dataframe tbody tr th:only-of-type {\n",
       "        vertical-align: middle;\n",
       "    }\n",
       "\n",
       "    .dataframe tbody tr th {\n",
       "        vertical-align: top;\n",
       "    }\n",
       "\n",
       "    .dataframe thead th {\n",
       "        text-align: right;\n",
       "    }\n",
       "</style>\n",
       "<table border=\"1\" class=\"dataframe\">\n",
       "  <thead>\n",
       "    <tr style=\"text-align: right;\">\n",
       "      <th></th>\n",
       "      <th>Name</th>\n",
       "      <th>Age</th>\n",
       "      <th>Nationality</th>\n",
       "      <th>Overall</th>\n",
       "      <th>Potential</th>\n",
       "      <th>Club</th>\n",
       "      <th>Wage</th>\n",
       "      <th>Crossing</th>\n",
       "      <th>Finishing</th>\n",
       "      <th>HeadingAccuracy</th>\n",
       "      <th>...</th>\n",
       "      <th>Marking</th>\n",
       "      <th>StandingTackle</th>\n",
       "      <th>SlidingTackle</th>\n",
       "      <th>GKDiving</th>\n",
       "      <th>GKHandling</th>\n",
       "      <th>GKKicking</th>\n",
       "      <th>GKPositioning</th>\n",
       "      <th>GKReflexes</th>\n",
       "      <th>Pé dominante</th>\n",
       "      <th>Posição</th>\n",
       "    </tr>\n",
       "  </thead>\n",
       "  <tbody>\n",
       "    <tr>\n",
       "      <th>0</th>\n",
       "      <td>L. Messi</td>\n",
       "      <td>31</td>\n",
       "      <td>Argentina</td>\n",
       "      <td>94</td>\n",
       "      <td>94</td>\n",
       "      <td>FC Barcelona</td>\n",
       "      <td>565000.0</td>\n",
       "      <td>84.0</td>\n",
       "      <td>95.0</td>\n",
       "      <td>70.0</td>\n",
       "      <td>...</td>\n",
       "      <td>33.0</td>\n",
       "      <td>28.0</td>\n",
       "      <td>26.0</td>\n",
       "      <td>6.0</td>\n",
       "      <td>11.0</td>\n",
       "      <td>15.0</td>\n",
       "      <td>14.0</td>\n",
       "      <td>8.0</td>\n",
       "      <td>0</td>\n",
       "      <td>ST</td>\n",
       "    </tr>\n",
       "    <tr>\n",
       "      <th>1</th>\n",
       "      <td>Cristiano Ronaldo</td>\n",
       "      <td>33</td>\n",
       "      <td>Portugal</td>\n",
       "      <td>94</td>\n",
       "      <td>94</td>\n",
       "      <td>Juventus</td>\n",
       "      <td>405000.0</td>\n",
       "      <td>84.0</td>\n",
       "      <td>94.0</td>\n",
       "      <td>89.0</td>\n",
       "      <td>...</td>\n",
       "      <td>28.0</td>\n",
       "      <td>31.0</td>\n",
       "      <td>23.0</td>\n",
       "      <td>7.0</td>\n",
       "      <td>11.0</td>\n",
       "      <td>15.0</td>\n",
       "      <td>14.0</td>\n",
       "      <td>11.0</td>\n",
       "      <td>1</td>\n",
       "      <td>ST</td>\n",
       "    </tr>\n",
       "    <tr>\n",
       "      <th>2</th>\n",
       "      <td>Neymar Jr</td>\n",
       "      <td>26</td>\n",
       "      <td>Brazil</td>\n",
       "      <td>92</td>\n",
       "      <td>93</td>\n",
       "      <td>Paris Saint-Germain</td>\n",
       "      <td>290000.0</td>\n",
       "      <td>79.0</td>\n",
       "      <td>87.0</td>\n",
       "      <td>62.0</td>\n",
       "      <td>...</td>\n",
       "      <td>27.0</td>\n",
       "      <td>24.0</td>\n",
       "      <td>33.0</td>\n",
       "      <td>9.0</td>\n",
       "      <td>9.0</td>\n",
       "      <td>15.0</td>\n",
       "      <td>15.0</td>\n",
       "      <td>11.0</td>\n",
       "      <td>1</td>\n",
       "      <td>CAM</td>\n",
       "    </tr>\n",
       "    <tr>\n",
       "      <th>3</th>\n",
       "      <td>De Gea</td>\n",
       "      <td>27</td>\n",
       "      <td>Spain</td>\n",
       "      <td>91</td>\n",
       "      <td>93</td>\n",
       "      <td>Manchester United</td>\n",
       "      <td>260000.0</td>\n",
       "      <td>17.0</td>\n",
       "      <td>13.0</td>\n",
       "      <td>21.0</td>\n",
       "      <td>...</td>\n",
       "      <td>15.0</td>\n",
       "      <td>21.0</td>\n",
       "      <td>13.0</td>\n",
       "      <td>90.0</td>\n",
       "      <td>85.0</td>\n",
       "      <td>87.0</td>\n",
       "      <td>88.0</td>\n",
       "      <td>94.0</td>\n",
       "      <td>1</td>\n",
       "      <td>GK</td>\n",
       "    </tr>\n",
       "    <tr>\n",
       "      <th>4</th>\n",
       "      <td>K. De Bruyne</td>\n",
       "      <td>27</td>\n",
       "      <td>Belgium</td>\n",
       "      <td>91</td>\n",
       "      <td>92</td>\n",
       "      <td>Manchester City</td>\n",
       "      <td>355000.0</td>\n",
       "      <td>93.0</td>\n",
       "      <td>82.0</td>\n",
       "      <td>55.0</td>\n",
       "      <td>...</td>\n",
       "      <td>68.0</td>\n",
       "      <td>58.0</td>\n",
       "      <td>51.0</td>\n",
       "      <td>15.0</td>\n",
       "      <td>13.0</td>\n",
       "      <td>5.0</td>\n",
       "      <td>10.0</td>\n",
       "      <td>13.0</td>\n",
       "      <td>1</td>\n",
       "      <td>MC</td>\n",
       "    </tr>\n",
       "  </tbody>\n",
       "</table>\n",
       "<p>5 rows × 43 columns</p>\n",
       "</div>"
      ],
      "text/plain": [
       "                Name  Age Nationality  Overall  Potential  \\\n",
       "0           L. Messi   31   Argentina       94         94   \n",
       "1  Cristiano Ronaldo   33    Portugal       94         94   \n",
       "2          Neymar Jr   26      Brazil       92         93   \n",
       "3             De Gea   27       Spain       91         93   \n",
       "4       K. De Bruyne   27     Belgium       91         92   \n",
       "\n",
       "                  Club      Wage  Crossing  Finishing  HeadingAccuracy  \\\n",
       "0         FC Barcelona  565000.0      84.0       95.0             70.0   \n",
       "1             Juventus  405000.0      84.0       94.0             89.0   \n",
       "2  Paris Saint-Germain  290000.0      79.0       87.0             62.0   \n",
       "3    Manchester United  260000.0      17.0       13.0             21.0   \n",
       "4      Manchester City  355000.0      93.0       82.0             55.0   \n",
       "\n",
       "    ...     Marking  StandingTackle  SlidingTackle  GKDiving  GKHandling  \\\n",
       "0   ...        33.0            28.0           26.0       6.0        11.0   \n",
       "1   ...        28.0            31.0           23.0       7.0        11.0   \n",
       "2   ...        27.0            24.0           33.0       9.0         9.0   \n",
       "3   ...        15.0            21.0           13.0      90.0        85.0   \n",
       "4   ...        68.0            58.0           51.0      15.0        13.0   \n",
       "\n",
       "   GKKicking  GKPositioning  GKReflexes  Pé dominante  Posição  \n",
       "0       15.0           14.0         8.0             0       ST  \n",
       "1       15.0           14.0        11.0             1       ST  \n",
       "2       15.0           15.0        11.0             1      CAM  \n",
       "3       87.0           88.0        94.0             1       GK  \n",
       "4        5.0           10.0        13.0             1       MC  \n",
       "\n",
       "[5 rows x 43 columns]"
      ]
     },
     "execution_count": 8,
     "metadata": {},
     "output_type": "execute_result"
    }
   ],
   "source": [
    "def right_footed(fifa_df):\n",
    "    if (fifa_df['Preferred Foot'] == 'Right'):\n",
    "        return 1\n",
    "    else:\n",
    "        return 0\n",
    "\n",
    "#Simplificando as posições dos jogadores\n",
    "def simple_position(fifa_df):\n",
    "    if (fifa_df['Position'] == 'GK'):\n",
    "        return 'GK'\n",
    "    elif ((fifa_df['Position'] == 'RB') or (fifa_df['Position'] == 'LB') or (fifa_df['Position'] == 'CB') or (fifa_df['Position'] == 'LCB') or (fifa_df['Position'] == 'RCB') or (fifa_df['Position'] == 'RWB') or (fifa_df['Position'] == 'LWB') ):\n",
    "        return 'DF'\n",
    "    elif ((fifa_df['Position'] == 'LDM') or (fifa_df['Position'] == 'CDM') or (fifa_df['Position'] == 'RDM')):\n",
    "        return 'CDM'\n",
    "    elif ((fifa_df['Position'] == 'LM') or (fifa_df['Position'] == 'LCM') or (fifa_df['Position'] == 'CM') or (fifa_df['Position'] == 'RCM') or (fifa_df['Position'] == 'RM')):\n",
    "        return 'MC'\n",
    "    elif ((fifa_df['Position'] == 'LAM') or (fifa_df['Position'] == 'CAM') or (fifa_df['Position'] == 'RAM') or (fifa_df['Position'] == 'LW') or (fifa_df['Position'] == 'RW')):\n",
    "        return 'CAM'\n",
    "    elif ((fifa_df['Position'] == 'RS') or (fifa_df['Position'] == 'ST') or (fifa_df['Position'] == 'LS') or (fifa_df['Position'] == 'CF') or (fifa_df['Position'] == 'LF') or (fifa_df['Position'] == 'RF')):\n",
    "        return 'ST'\n",
    "    else:\n",
    "        return fifa_df.Position\n",
    "\n",
    "df=fifa_df.copy()\n",
    "#Colocando novas mudanças\n",
    "df['Pé dominante'] = df.apply(right_footed, axis=1)\n",
    "df['Posição'] = df.apply(simple_position,axis = 1)\n",
    "#Drop original columns used\n",
    "df = df.drop(['Preferred Foot','Position'], axis = 1)\n",
    "\n",
    "df.head()\n"
   ]
  },
  {
   "cell_type": "markdown",
   "metadata": {},
   "source": [
    "* Retirando linhas com valores não preenchidos\n"
   ]
  },
  {
   "cell_type": "code",
   "execution_count": 9,
   "metadata": {},
   "outputs": [],
   "source": [
    "df.dropna(inplace=True)"
   ]
  },
  {
   "cell_type": "code",
   "execution_count": 10,
   "metadata": {},
   "outputs": [],
   "source": [
    "#df.isnull().sum()"
   ]
  },
  {
   "cell_type": "markdown",
   "metadata": {},
   "source": [
    "### Análise exploratória inicial"
   ]
  },
  {
   "cell_type": "markdown",
   "metadata": {},
   "source": [
    "Para um melhor entendimento da estrutura do dataframe e seu funcionamento, será realizado uma análise gráfica comparando alguns fatores, que na vida real são muito debatidos, como quais países possuem os melhores jogadores do jogo, e como se da o comportamento do overall relacionando algumas habilidades importantes que o atleta deve demonstrar para se tornar um bom jogador na vida real."
   ]
  },
  {
   "cell_type": "code",
   "execution_count": 11,
   "metadata": {
    "scrolled": true
   },
   "outputs": [
    {
     "data": {
      "image/png": "[encoded data removed]",
      "text/plain": [
       "<Figure size 432x288 with 1 Axes>"
      ]
     },
     "metadata": {
      "needs_background": "light"
     },
     "output_type": "display_data"
    }
   ],
   "source": [
    "df.groupby(\"Nationality\")[\"Overall\"].mean().hist()\n",
    "plt.xlabel(\"Overall\")\n",
    "plt.ylabel(\"Contagem\")\n",
    "plt.title(\"Contagem de países por média de Overall\")\n",
    "plt.show()"
   ]
  },
  {
   "cell_type": "markdown",
   "metadata": {},
   "source": [
    "O gráfico acima exemplifica uma contagem da média de overall em cada nacionalidade. Observa-se que há um grande numero de nações, por volta de 37, que possuem sua média de jogadores com um rating entre 63 a 65. Além disso, verifica-se que há menos de 5 nações que possuem sua média de jogadores em torno de 73 a 78. Assim, a maioria das nações possuem jogadores com overall médio de 68."
   ]
  },
  {
   "cell_type": "code",
   "execution_count": 12,
   "metadata": {
    "scrolled": true
   },
   "outputs": [
    {
     "data": {
      "text/plain": [
       "England        1657\n",
       "Germany        1195\n",
       "Spain          1071\n",
       "Argentina       935\n",
       "France          911\n",
       "Brazil          825\n",
       "Italy           699\n",
       "Colombia        616\n",
       "Japan           478\n",
       "Netherlands     452\n",
       "Name: Nationality, dtype: int64"
      ]
     },
     "execution_count": 12,
     "metadata": {},
     "output_type": "execute_result"
    }
   ],
   "source": [
    "df.Nationality.value_counts().head(10)"
   ]
  },
  {
   "cell_type": "code",
   "execution_count": 13,
   "metadata": {},
   "outputs": [
    {
     "data": {
      "text/plain": [
       "Fiji             1\n",
       "St Lucia         1\n",
       "New Caledonia    1\n",
       "Oman             1\n",
       "Qatar            1\n",
       "Malta            1\n",
       "Nicaragua        1\n",
       "Belize           1\n",
       "Andorra          1\n",
       "Kuwait           1\n",
       "Name: Nationality, dtype: int64"
      ]
     },
     "execution_count": 13,
     "metadata": {},
     "output_type": "execute_result"
    }
   ],
   "source": [
    "df.Nationality.value_counts().tail(10)"
   ]
  },
  {
   "cell_type": "code",
   "execution_count": 14,
   "metadata": {},
   "outputs": [
    {
     "data": {
      "image/png": "[encoded data removed]",
      "text/plain": [
       "<Figure size 432x288 with 1 Axes>"
      ]
     },
     "metadata": {
      "needs_background": "light"
     },
     "output_type": "display_data"
    }
   ],
   "source": [
    "overall_paises=df.groupby(\"Nationality\")[\"Overall\"].mean().sort_values().tail(10)\n",
    "overall_paises.plot.bar();\n",
    "plt.ylim((68,78))\n",
    "plt.ylabel(\"Overall\")\n",
    "plt.title(\"10 países com a melhor média de Overall de seus jogadores\")\n",
    "plt.show()"
   ]
  },
  {
   "cell_type": "markdown",
   "metadata": {},
   "source": [
    "O gráfico acima ilustra as 10 nacionalidades que possuem o melhor overall de seus jogadores. Porém, utilizando-se de noções da vida real, verifica-se que tal gráfico não mostra a realidade, visto que grandes nações tradicionais no futebol e campeãs de Copas do Mundo não estão presentes. \n",
    "\n",
    "Tal fato ocorre devido tais nações como São Tomé e Principe que possui apenas um jogador, o que faz com que a média desse país seja justamente o overall deste jogador, o que não ocorre por exemplo com a Inglaterra, nação com mais jogadores no dataframe, por exemplo, no qual possui alguns jogadores com overall elevado, outros bem baixos, e assim acaba tendo uma média baixa."
   ]
  },
  {
   "cell_type": "code",
   "execution_count": 15,
   "metadata": {},
   "outputs": [
    {
     "data": {
      "image/png": "[encoded data removed]",
      "text/plain": [
       "<Figure size 432x288 with 1 Axes>"
      ]
     },
     "metadata": {
      "needs_background": "light"
     },
     "output_type": "display_data"
    }
   ],
   "source": [
    "med_paises=df.groupby(\"Nationality\")[\"Overall\"].mean().sort_values()\n",
    "restricao_paises=med_paises.loc[[\"Argentina\",\"Brazil\",\"France\",\"Germany\",\"Italy\",\"England\",\"Spain\",\"Uruguay\"]]\n",
    "restricao_paises.plot.bar();\n",
    "plt.ylim((62,72))\n",
    "plt.ylabel(\"Overall\")\n",
    "plt.title(\"Média de Overall de países dado na vida real como influentes no futebol\")\n",
    "plt.show()"
   ]
  },
  {
   "cell_type": "markdown",
   "metadata": {},
   "source": [
    "Selecionando apenas as seleções ja campeas de Copa do Mundo, observamos que apenas Uruguai não está na lista das 10 nações com mais jogadores no dataframe, assim, a hipótese de o tamanho amostral ter influenciado na média de overall formulada anteriormente se confirma.\n",
    "\n",
    "Além disso, verifica-se que a seleção com mais Copas do Mundo, sendo o Brasil, é a nação com uma média de overall mais elevadas dentre as listadas.\n"
   ]
  },
  {
   "cell_type": "markdown",
   "metadata": {},
   "source": [
    "* Análise do comportamento da idade dos jogadores com habilidades e overall"
   ]
  },
  {
   "cell_type": "code",
   "execution_count": 16,
   "metadata": {},
   "outputs": [
    {
     "data": {
      "text/plain": [
       "<Figure size 432x288 with 0 Axes>"
      ]
     },
     "metadata": {},
     "output_type": "display_data"
    },
    {
     "data": {
      "image/png": "[encoded data removed]",
      "text/plain": [
       "<Figure size 1080x504 with 1 Axes>"
      ]
     },
     "metadata": {
      "needs_background": "light"
     },
     "output_type": "display_data"
    }
   ],
   "source": [
    "dataset40 = df.loc[df['Age'] <= 40]\n",
    "idade = dataset40.sort_values(\"Age\")['Age'].unique()\n",
    "overall = dataset40.groupby(\"Age\")[\"Overall\"].mean().values\n",
    "potential = dataset40.groupby(\"Age\")[\"Potential\"].mean().values\n",
    "Sprint_Speed = dataset40.groupby(\"Age\")[\"SprintSpeed\"].mean().values\n",
    "Finalização = dataset40.groupby(\"Age\")[\"Finishing\"].mean().values\n",
    "Agilidade = dataset40.groupby(\"Age\")[\"Agility\"].mean().values\n",
    "\n",
    "plt.figure()\n",
    "plt.figure(figsize=(15,7))\n",
    "plt.title('Idade x Média Overall/Potential/Sprint Speed/Agilidade/Finalização', fontsize=20, fontweight='bold')\n",
    "plt.xlabel('Player Age', fontsize=15)\n",
    "plt.ylabel('Player Overall', fontsize=15)\n",
    "sns.set_style(\"whitegrid\")\n",
    "plt.plot(idade, overall, label=\"Overall\")\n",
    "plt.plot(idade, potential, label=\"Potential\")\n",
    "plt.plot(idade,Sprint_Speed, label=\"Sprint Speed\")\n",
    "plt.plot(idade,Finalização, label=\"Finalização\")\n",
    "plt.plot(idade,Agilidade, label=\"Agilidade\")\n",
    "plt.legend(loc=4, prop={'size': 15}, frameon=True,shadow=True, facecolor=\"white\", edgecolor=\"black\")\n",
    "plt.savefig('chart.png')\n",
    "plt.show()"
   ]
  },
  {
   "cell_type": "markdown",
   "metadata": {},
   "source": [
    "Esse gráfico mostra a relação entre a idade do jogador com algumas habilidades escolhidas, assim como, overall, pontencial, sprint speed, finalizacao e agilidade. Para realizar esses dados, foi tirado uma média ponderada de cada habilidade para valores de jogadores com a mesma idade, tornando essa analise de habilidades, uma média de todos os jogadores do jogo. \n",
    "\n",
    "Como esperado, pode-se analisar que, com o passar dos anos, o overall dos jogadores vão aumentando e se aproximando cada vez mais à curva do potencial, dando uma estabilizada a partir dos 30 anos, idade em que os jogadores, em média, param de evoluir.\n",
    "\n",
    "Também, é possível concluir que tanto a agilidade quanto a velocidade dos jogadores diminuem conforme aumenta a idade dos jogadores. Já para a finalizacao, a curva apresenta, um crescimento leve e depois tende a retornar ao valor medio inicial.\n",
    "\n",
    "Para todas as habilidades escolhidas,a media tende a diminuir a partir dos 30 anos, o que mostra até quando os jogadores são esperados para manter seu overall o mais alto possível."
   ]
  },
  {
   "cell_type": "markdown",
   "metadata": {},
   "source": [
    "* Gráfico de habilidades dominantes por posição"
   ]
  },
  {
   "cell_type": "code",
   "execution_count": 17,
   "metadata": {},
   "outputs": [
    {
     "data": {
      "image/png": "[encoded data removed]",
      "text/plain": [
       "<Figure size 1080x3240 with 6 Axes>"
      ]
     },
     "metadata": {},
     "output_type": "display_data"
    }
   ],
   "source": [
    "#códgio retirado do site: https://www.kaggle.com/nitindatta/fifa-in-depth-analysis-with-linear-regression/notebook\n",
    "\n",
    "player_features = ('Acceleration', 'Aggression', 'Agility',\n",
    "    'Balance', 'BallControl', 'Composure', \n",
    "    'Crossing', 'Dribbling', 'FKAccuracy', \n",
    "    'Finishing', 'GKDiving', 'GKHandling', \n",
    "    'GKKicking', 'GKPositioning', 'GKReflexes', \n",
    "    'HeadingAccuracy', 'Interceptions', 'Jumping', \n",
    "    'LongPassing', 'LongShots', 'Marking', 'Penalties')\n",
    "\n",
    "from math import pi\n",
    "idx = 1\n",
    "plt.figure(figsize=(15,45))\n",
    "for position_name, features in df.groupby(df['Posição'])[player_features].mean().iterrows():\n",
    "    top_features = dict(features.nlargest(6))\n",
    "    \n",
    "    #numero de variaveis\n",
    "    categories=top_features.keys()\n",
    "    N = len(categories)\n",
    "\n",
    "    # We are going to plot the first line of the data frame.\n",
    "    # But we need to repeat the first value to close the circular graph:\n",
    "    values = list(top_features.values())\n",
    "    values += values[:1]\n",
    "\n",
    "    #Definindo a angulação de cada eixo\n",
    "    angles = [n / float(N) * 2 * pi for n in range(N)]\n",
    "    angles += angles[:1]\n",
    "\n",
    "    #Plotando o gráfico\n",
    "    ax = plt.subplot(10, 3, idx, polar=True)\n",
    "\n",
    "    plt.xticks(angles[:-1], categories, color='black', size=8)\n",
    " \n",
    "    ax.set_rlabel_position(0)\n",
    "    plt.yticks([25,50,75], [\"25\",\"50\",\"75\"], color=\"black\", size=7)\n",
    "    plt.ylim(0,100)\n",
    "    \n",
    "    plt.subplots_adjust(hspace = 0.5)\n",
    "    \n",
    "    #Plot data\n",
    "    ax.plot(angles, values, linewidth=1, linestyle='solid')\n",
    "    #Fill area\n",
    "    ax.fill(angles, values, 'b', alpha=0.1)\n",
    "    plt.title(position_name, size=11, y=1.1)\n",
    "    \n",
    "    idx += 1"
   ]
  },
  {
   "cell_type": "markdown",
   "metadata": {},
   "source": [
    "O gráfico de setores é um tipo de gráfico muito presente no jogo para ilustrar as habilidades de cada jogador. Inspirado em tal modelo, foi modelado o comportamento das 6 maiores médias de cada habilidade por posição. Dessa forma, pode-se compreender que para um meia atacante, habilidades como aceleração, agilidade, controle de bola, drible, equilibrio e compostura são relevantes para a posição. Enquanto para um defensor, habilidades de defesa são relevantes, e assim por diante.\n",
    "\n",
    "Dessa forma, para obter-se uma melhor predição do overall dos jogadores posteriormente listados no dataframe de teste, irá se restringir em habilidades como estas e algumas não apresentadas no gráfico, que empiricamente na vida real se mostram relevantes para a posição."
   ]
  },
  {
   "cell_type": "markdown",
   "metadata": {},
   "source": [
    "![](./grafico.png)"
   ]
  },
  {
   "cell_type": "markdown",
   "metadata": {},
   "source": [
    "## Modelo de Predição"
   ]
  },
  {
   "cell_type": "markdown",
   "metadata": {},
   "source": [
    "Para uma melhor analise, dividiu-se o datset nas 6 posições criadas, a fim de incluir apenas variaveis de habilidades que são relevantes para cada posição."
   ]
  },
  {
   "cell_type": "markdown",
   "metadata": {},
   "source": [
    "* Divisão do Dataframe por posição"
   ]
  },
  {
   "cell_type": "code",
   "execution_count": 18,
   "metadata": {},
   "outputs": [],
   "source": [
    "atacantes=df.loc[df[\"Posição\"]==\"ST\"]\n",
    "meia_atacantes=df.loc[df[\"Posição\"]==\"CAM\"]\n",
    "meio_campo=df.loc[df[\"Posição\"]==\"MC\"]\n",
    "volantes=df.loc[df[\"Posição\"]==\"CDM\"]\n",
    "defensores=df.loc[df[\"Posição\"]==\"DF\"]\n",
    "goleiros=df.loc[df[\"Posição\"]==\"GK\"]"
   ]
  },
  {
   "cell_type": "markdown",
   "metadata": {},
   "source": [
    "### Regressão Linear aplicada aos atacantes"
   ]
  },
  {
   "cell_type": "code",
   "execution_count": 19,
   "metadata": {},
   "outputs": [],
   "source": [
    "X_st=atacantes[[\"Potential\",'Acceleration', 'Aggression',\n",
    "               'Dribbling','Finishing','LongShots','Penalties',\"Pé dominante\",\n",
    "               'HeadingAccuracy','SprintSpeed','Agility','Reactions','Balance',\n",
    "               'ShotPower','Positioning','Volleys']]\n",
    "Y_st=atacantes[\"Overall\"]"
   ]
  },
  {
   "cell_type": "code",
   "execution_count": 20,
   "metadata": {},
   "outputs": [
    {
     "name": "stdout",
     "output_type": "stream",
     "text": [
      "score: 0.9792365098681859\n",
      "erro: 1.0282600911359827\n"
     ]
    }
   ],
   "source": [
    "#Separando em treinamento e teste as variaveis X e Y\n",
    "import sklearn.model_selection as model_selection\n",
    "X_st_train,X_st_test,Y_st_train,Y_st_test = model_selection.train_test_split(X_st,Y_st,test_size=0.3,shuffle=True)\n",
    "\n",
    "#Aplicando o codigo de Regressão Linear\n",
    "from sklearn.linear_model import LinearRegression\n",
    "model = LinearRegression()\n",
    "model.fit(X_st_train, Y_st_train)\n",
    "predictions = model.predict(X_st_test)\n",
    "\n",
    "#Analisando o score\n",
    "from sklearn.metrics import r2_score, mean_squared_error\n",
    "print('score: '+str(r2_score(Y_st_test, predictions)))\n",
    "print('erro: '+str(np.sqrt(mean_squared_error(Y_st_test, predictions))))"
   ]
  },
  {
   "cell_type": "markdown",
   "metadata": {},
   "source": [
    "### Regressão linear aplicada aos meia atacantes "
   ]
  },
  {
   "cell_type": "code",
   "execution_count": 21,
   "metadata": {},
   "outputs": [],
   "source": [
    "X_ma=meia_atacantes[[\"Potential\",'Crossing', 'ShortPassing','Dribbling',\n",
    "         'Curve','FKAccuracy','LongPassing', 'BallControl', 'Acceleration',\n",
    "       'SprintSpeed', 'Agility', 'Reactions', 'Balance','Stamina','Positioning', 'Vision']]\n",
    "Y_ma=meia_atacantes[\"Overall\"]"
   ]
  },
  {
   "cell_type": "code",
   "execution_count": 22,
   "metadata": {},
   "outputs": [
    {
     "name": "stdout",
     "output_type": "stream",
     "text": [
      "score: 0.9769975348071737\n",
      "erro: 1.0917899298173221\n"
     ]
    }
   ],
   "source": [
    "#Separando em treinamento e teste as variaveis X e Y\n",
    "import sklearn.model_selection as model_selection\n",
    "X_ma_train,X_ma_test,Y_ma_train,Y_ma_test = model_selection.train_test_split(X_ma,Y_ma,test_size=0.3,shuffle=True)\n",
    "\n",
    "#Aplicando o codigo de Regressão Linear\n",
    "from sklearn.linear_model import LinearRegression\n",
    "model = LinearRegression()\n",
    "model.fit(X_ma_train, Y_ma_train)\n",
    "predictions = model.predict(X_ma_test)\n",
    "\n",
    "#Analisando o score\n",
    "from sklearn.metrics import r2_score, mean_squared_error\n",
    "print('score: '+str(r2_score(Y_ma_test, predictions)))\n",
    "print('erro: '+str(np.sqrt(mean_squared_error(Y_ma_test, predictions))))"
   ]
  },
  {
   "cell_type": "markdown",
   "metadata": {},
   "source": [
    "### Regressão Linear aplicada aos meio campistas "
   ]
  },
  {
   "cell_type": "code",
   "execution_count": 23,
   "metadata": {},
   "outputs": [],
   "source": [
    "X_cm=meio_campo[[\"Potential\",'Crossing', 'ShortPassing','Dribbling',\n",
    "         'Curve','FKAccuracy','LongPassing', 'BallControl', 'Aggression'\n",
    "         ,'Agility','Reactions', 'Balance','Stamina','Positioning', 'Vision',\n",
    "        'Interceptions', 'Marking']]\n",
    "Y_cm=meio_campo[\"Overall\"]"
   ]
  },
  {
   "cell_type": "code",
   "execution_count": 24,
   "metadata": {},
   "outputs": [
    {
     "name": "stdout",
     "output_type": "stream",
     "text": [
      "score: 0.9493453004646598\n",
      "erro: 1.549253382779577\n"
     ]
    }
   ],
   "source": [
    "#Separando em treinamento e teste as variaveis X e Y\n",
    "import sklearn.model_selection as model_selection\n",
    "X_cm_train,X_cm_test,Y_cm_train,Y_cm_test = model_selection.train_test_split(X_cm,Y_cm,test_size=0.3,shuffle=True)\n",
    "\n",
    "#Aplicando o codigo de Regressão Linear\n",
    "from sklearn.linear_model import LinearRegression\n",
    "model = LinearRegression()\n",
    "model.fit(X_cm_train, Y_cm_train)\n",
    "predictions = model.predict(X_cm_test)\n",
    "\n",
    "#Analisando o score\n",
    "from sklearn.metrics import r2_score, mean_squared_error\n",
    "print('score: '+str(r2_score(Y_cm_test, predictions)))\n",
    "print('erro: '+str(np.sqrt(mean_squared_error(Y_cm_test, predictions))))"
   ]
  },
  {
   "cell_type": "markdown",
   "metadata": {},
   "source": [
    "### Regressão Linear aplicada aos volantes"
   ]
  },
  {
   "cell_type": "code",
   "execution_count": 25,
   "metadata": {},
   "outputs": [],
   "source": [
    "X_cdm=volantes[[\"Potential\",'HeadingAccuracy','LongPassing', 'Balance',\n",
    "                'Jumping', 'Stamina', 'Strength','Aggression','Interceptions',\n",
    "                'Positioning','Composure','Marking', 'StandingTackle', 'SlidingTackle']]\n",
    "Y_cdm=volantes[\"Overall\"]"
   ]
  },
  {
   "cell_type": "code",
   "execution_count": 26,
   "metadata": {},
   "outputs": [
    {
     "name": "stdout",
     "output_type": "stream",
     "text": [
      "score: 0.933656011856296\n",
      "erro: 1.6320294007929983\n"
     ]
    }
   ],
   "source": [
    "#Separando em treinamento e teste as variaveis X e Y\n",
    "import sklearn.model_selection as model_selection\n",
    "X_cdm_train,X_cdm_test,Y_cdm_train,Y_cdm_test = model_selection.train_test_split(X_cdm,Y_cdm,test_size=0.3,shuffle=True)\n",
    "\n",
    "#Aplicando o codigo de Regressão Linear\n",
    "from sklearn.linear_model import LinearRegression\n",
    "model = LinearRegression()\n",
    "model.fit(X_cdm_train, Y_cdm_train)\n",
    "predictions = model.predict(X_cdm_test)\n",
    "\n",
    "#Analisando o score\n",
    "from sklearn.metrics import r2_score, mean_squared_error\n",
    "print('score: '+str(r2_score(Y_cdm_test, predictions)))\n",
    "print('erro: '+str(np.sqrt(mean_squared_error(Y_cdm_test, predictions))))"
   ]
  },
  {
   "cell_type": "markdown",
   "metadata": {},
   "source": [
    "### Regressão Linear aplicada aos defensores"
   ]
  },
  {
   "cell_type": "code",
   "execution_count": 27,
   "metadata": {},
   "outputs": [],
   "source": [
    "X_df=defensores[['Acceleration','SprintSpeed',\"Potential\",'HeadingAccuracy',\n",
    "               'Jumping', 'Stamina',\n",
    "               'Strength','Aggression','Interceptions',\n",
    "                'Marking', 'StandingTackle', 'SlidingTackle']]\n",
    "Y_df=defensores[\"Overall\"]"
   ]
  },
  {
   "cell_type": "code",
   "execution_count": 28,
   "metadata": {},
   "outputs": [
    {
     "name": "stdout",
     "output_type": "stream",
     "text": [
      "score: 0.9367604919083906\n",
      "erro: 1.6338652384032046\n"
     ]
    }
   ],
   "source": [
    "#Separando em treinamento e teste as variaveis X e Y\n",
    "import sklearn.model_selection as model_selection\n",
    "X_df_train,X_df_test,Y_df_train,Y_df_test = model_selection.train_test_split(X_df,Y_df,test_size=0.3,shuffle=True)\n",
    "\n",
    "#Aplicando o codigo de Regressão Linear\n",
    "from sklearn.linear_model import LinearRegression\n",
    "model = LinearRegression()\n",
    "model.fit(X_df_train, Y_df_train)\n",
    "predictions = model.predict(X_df_test)\n",
    "\n",
    "#Analisando o score\n",
    "from sklearn.metrics import r2_score, mean_squared_error\n",
    "print('score: '+str(r2_score(Y_df_test, predictions)))\n",
    "print('erro: '+str(np.sqrt(mean_squared_error(Y_df_test, predictions))))"
   ]
  },
  {
   "cell_type": "markdown",
   "metadata": {},
   "source": [
    "### Regressão Linear aplicada aos goleiros"
   ]
  },
  {
   "cell_type": "code",
   "execution_count": 29,
   "metadata": {},
   "outputs": [],
   "source": [
    "X_gk=goleiros[['GKDiving', 'GKHandling',\n",
    "       'GKKicking', 'GKPositioning', 'GKReflexes',\"Jumping\"]]\n",
    "Y_gk=goleiros[\"Overall\"]"
   ]
  },
  {
   "cell_type": "code",
   "execution_count": 30,
   "metadata": {},
   "outputs": [
    {
     "name": "stdout",
     "output_type": "stream",
     "text": [
      "score: 0.9903725042206867\n",
      "erro: 0.7546117713397704\n"
     ]
    }
   ],
   "source": [
    "#Separando em treinamento e teste as variaveis X e Y\n",
    "import sklearn.model_selection as model_selection\n",
    "X_gk_train,X_gk_test,Y_gk_train,Y_gk_test = model_selection.train_test_split(X_gk,Y_gk,test_size=0.3,shuffle=True)\n",
    "\n",
    "#Aplicando o codigo de Regressão Linear\n",
    "from sklearn.linear_model import LinearRegression\n",
    "model = LinearRegression()\n",
    "model.fit(X_gk_train, Y_gk_train)\n",
    "predictions = model.predict(X_gk_test)\n",
    "\n",
    "#Analisando o score\n",
    "from sklearn.metrics import r2_score, mean_squared_error\n",
    "print('score: '+str(r2_score(Y_gk_test, predictions)))\n",
    "print('erro: '+str(np.sqrt(mean_squared_error(Y_gk_test, predictions))))"
   ]
  },
  {
   "cell_type": "markdown",
   "metadata": {},
   "source": [
    "## Conclusão"
   ]
  },
  {
   "cell_type": "markdown",
   "metadata": {},
   "source": [
    "Com base nos dados obtidos pela regressão linear, conclui-se que o método e o modelo adotado, realizando predições para cada posição de acordo com suas habilidades relevantes, se mostrou eficaz, visto que o menor score obtido foi em torno de 93% para os zagueiros e volantes e o maior para os goleiros, com 99% de precisão, meio campistas obteve 94%, enquanto meia atacantes e atacantes obteve-se uma performance de cerca aproximadamente 98%.\n",
    "\n",
    "O fato de zagueiros e volantes terem obtidos as menores performaces ocorre devido aos zagueiros e volantes possuirem algumas caracteristicas pessoais, além das consideradas relevantes que acabam diferenciando-os: há zagueiros e volantes que são considerados mais ofensivos e outros que possuem caracteristicas defensivas, outro fator que fez com que o score dos zagueiros fosse inferior aos demais, se deve ao fato de está posição ter agrupado diferentes posições defensivas, zagueiros centrais, alas, e laterias, dessa forma, alas e laterais acabam possuindo habilidades consideradas relevantes para posições ofensivas, fazendo assim, fazendo com que alguns possam ser considerados meio campistas. Já para os goleiros, o indice de precisão foi elevado pois tais possuem apenas 5 stats que se destacam das outras, tornando a classificação precisa.\n"
   ]
  },
  {
   "cell_type": "markdown",
   "metadata": {},
   "source": [
    "## Referências Bibliográficas"
   ]
  },
  {
   "cell_type": "markdown",
   "metadata": {},
   "source": [
    "https://www.futhead.com/players/230666/\n",
    "\n",
    "https://plotly.com/python/radar-chart/\n",
    "\n",
    "https://www.kaggle.com/vibhavagarwal5/fifa-overall-positional-rating-prediction/comments"
   ]
  },
  {
   "cell_type": "code",
   "execution_count": null,
   "metadata": {},
   "outputs": [],
   "source": []
  }
 ],
 "metadata": {
  "kernelspec": {
   "display_name": "Python 3",
   "language": "python",
   "name": "python3"
  },
  "language_info": {
   "codemirror_mode": {
    "name": "ipython",
    "version": 3
   },
   "file_extension": ".py",
   "mimetype": "text/x-python",
   "name": "python",
   "nbconvert_exporter": "python",
   "pygments_lexer": "ipython3",
   "version": "3.7.1"
  }
 },
 "nbformat": 4,
 "nbformat_minor": 2
}
